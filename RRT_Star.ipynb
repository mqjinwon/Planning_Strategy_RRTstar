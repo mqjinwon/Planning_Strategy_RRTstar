{
 "cells": [
  {
   "cell_type": "markdown",
   "metadata": {},
   "source": [
    "## Problem 1 RRT *"
   ]
  },
  {
   "cell_type": "markdown",
   "metadata": {},
   "source": [
    "## 1"
   ]
  },
  {
   "cell_type": "markdown",
   "metadata": {},
   "source": [
    "Knowing point1 (to point) and point2 (base point) and maximum distance allowed for one step, the steer function is implemented as:"
   ]
  },
  {
   "cell_type": "markdown",
   "metadata": {},
   "source": [
    "$$ vec = x1 - x2 $$"
   ]
  },
  {
   "cell_type": "markdown",
   "metadata": {},
   "source": [
    "If norm(vec) < maximum d, scale vec to d and the coordinate of new point is calculated by (x2 + vec)"
   ]
  },
  {
   "cell_type": "markdown",
   "metadata": {},
   "source": [
    "## 2"
   ]
  },
  {
   "cell_type": "markdown",
   "metadata": {},
   "source": [
    "1000 iterations"
   ]
  },
  {
   "cell_type": "markdown",
   "metadata": {},
   "source": [
    "![title](rrt_star_1000_v1.png)"
   ]
  },
  {
   "cell_type": "markdown",
   "metadata": {},
   "source": [
    "3000 iterations"
   ]
  },
  {
   "cell_type": "markdown",
   "metadata": {},
   "source": [
    "![title](rrt_star_3000_v1.png)"
   ]
  },
  {
   "cell_type": "markdown",
   "metadata": {},
   "source": [
    "5000 iterations"
   ]
  },
  {
   "cell_type": "markdown",
   "metadata": {},
   "source": [
    "![title](rrt_star_5000_v1.png)"
   ]
  },
  {
   "cell_type": "markdown",
   "metadata": {},
   "source": [
    "10,000 iterations"
   ]
  },
  {
   "cell_type": "markdown",
   "metadata": {},
   "source": [
    "![title](rrt_star_10000_v1.png)"
   ]
  },
  {
   "cell_type": "markdown",
   "metadata": {},
   "source": [
    "Best cost plot every 100 iterations:"
   ]
  },
  {
   "cell_type": "markdown",
   "metadata": {},
   "source": [
    "![title](best_Cost_plot.png)"
   ]
  },
  {
   "cell_type": "code",
   "execution_count": 12,
   "metadata": {},
   "outputs": [],
   "source": [
    "import numpy as np\n",
    "import matplotlib.pyplot as plt\n",
    "import matplotlib.patches as patches\n",
    "import math\n",
    "import cv2\n",
    "import tqdm"
   ]
  },
  {
   "cell_type": "code",
   "execution_count": 13,
   "metadata": {},
   "outputs": [],
   "source": [
    "#define obstacles and map_region by [[xmin,ymin],[xmax,ymax]]\n",
    "obstacles = np.array([[[4,-4],[5,9]],[[-6,-5],[0,-4]]])\n",
    "#obstacles = [[[-6,-5],[0,-4]]]\n",
    "map_region = [[-10,10],[10,10]]\n",
    "\n",
    "start = np.array([0.0,0.0])\n",
    "target = np.array([8.0,8.0])"
   ]
  },
  {
   "cell_type": "code",
   "execution_count": 14,
   "metadata": {},
   "outputs": [],
   "source": [
    "def distance(x1, x2):\n",
    "    \n",
    "    vec = x1 - x2\n",
    "    distance = np.linalg.norm(vec)\n",
    "    return distance\n"
   ]
  },
  {
   "cell_type": "code",
   "execution_count": 15,
   "metadata": {},
   "outputs": [],
   "source": [
    "class Node():\n",
    "    \n",
    "    def __init__(self, pos):\n",
    "        self.pos = pos\n",
    "        self.cost = 0\n",
    "        self.parent = None\n",
    "        "
   ]
  },
  {
   "cell_type": "code",
   "execution_count": 16,
   "metadata": {},
   "outputs": [],
   "source": [
    "\n",
    "class RRTstar():\n",
    "    \n",
    "    def __init__(self, start, target, obstacles, map_region, expand_r ,max_iter):\n",
    "        \n",
    "        self.start = Node(start)\n",
    "        self.target = Node(target)\n",
    "        \n",
    "        self.expand_r = expand_r\n",
    "        self.map_region = map_region # list of [[xmin, ymin],[xmax, ymax]]\n",
    "        self.obstacles = obstacles # list of [[xmin, ymin],[xmax, ymax]]\n",
    "        self.max_iter = max_iter\n",
    "        \n",
    "        self.nodes = []\n",
    "        self.nodes.append(self.start)\n",
    "        self.distance = None\n",
    "        self.final_state = None\n",
    "        self.best_cost_list = []\n",
    "        \n",
    "    def rrt_star_search(self):\n",
    "        \n",
    "        dim = 2\n",
    "        gamma = 1.4\n",
    "        final_node = None\n",
    "        \n",
    "        for i in range(self.max_iter):\n",
    "            \n",
    "            self.distance = np.zeros(len(self.nodes))\n",
    "            \n",
    "            rnd_node = self.sample() #sample free\n",
    "            nearest_v = self.find_nearest(self.nodes, rnd_node) #find nearest node, #update self.distance\n",
    "            \n",
    "            #steer\n",
    "            \n",
    "            vec = self.steer(rnd_node, nearest_v)\n",
    "            \n",
    "            new_pt = nearest_v.pos + vec\n",
    "            new_node = Node(new_pt)\n",
    "            \n",
    "            if not self.isCollisionFree(new_node, nearest_v,self.obstacles,0.6):\n",
    "                continue\n",
    "            # nodes for reconnect\n",
    "            #radius = min((gamma * np.log(i+1)/(i+1))**(1/dim),3.142 * (self.expand_r)**(1/dim))\n",
    "            radius = min(np.power(gamma * np.log(len(self.nodes))/len(self.nodes),1/dim),self.expand_r)\n",
    "            _near_nodes = self.nearest(new_pt, radius)\n",
    "            \n",
    "            d = distance(nearest_v.pos, new_pt)\n",
    "            \n",
    "            #cost and parent for update\n",
    "            cost_min = nearest_v.cost + d\n",
    "            mini_cost_node = nearest_v\n",
    "            \n",
    "            new_node.cost = cost_min\n",
    "            new_node.parent = mini_cost_node\n",
    "            \n",
    "            if len(_near_nodes) > 0:\n",
    "                \n",
    "                for node in _near_nodes:\n",
    "\n",
    "                    d = distance(node.pos, new_pt)\n",
    "                    cost_temp = d + node.cost\n",
    "\n",
    "                    if self.isCollisionFree(node, new_node,self.obstacles,0.6) and cost_temp < new_node.cost:\n",
    "                        new_node.cost = cost_temp\n",
    "                        new_node.parent = node  \n",
    "                    #print(\"rewired\")\n",
    "                        \n",
    "                for node in _near_nodes:\n",
    "                    d = distance(node.pos, new_pt)\n",
    "                    cost_temp= d + new_node.cost\n",
    "\n",
    "                    if self.isCollisionFree(node,new_node,self.obstacles,0.6) and cost_temp < node.cost:\n",
    "                        node.cost = cost_temp\n",
    "                        node.parent = new_node\n",
    "                    #print(\"reconnect\")\n",
    "\n",
    "            self.nodes.append(new_node)\n",
    "            \n",
    "            if distance(new_pt, self.target.pos) < 0.5 + 0.6:\n",
    "                \n",
    "                if final_node == None:\n",
    "                    final_node = new_node\n",
    "                if final_node.cost > new_node.cost:\n",
    "                    final_node = new_node\n",
    "                    \n",
    "            if final_node != None and i%100 == 0:\n",
    "                self.best_cost_list.append(final_node.cost)\n",
    "                \n",
    "                    \n",
    "        if final_node == None:\n",
    "            print ('has not gotten to final state')\n",
    "        else:\n",
    "            self.final_state = final_node\n",
    "            \n",
    "        return self.nodes, self.final_state\n",
    "    \n",
    "    def plotmap(self):\n",
    "        \n",
    "        domain = self.map_region\n",
    "        obstacles = self.obstacles\n",
    "        start_pos = self.start.pos\n",
    "        target_pos = self.target.pos\n",
    "        \n",
    "        fig = plt.figure()\n",
    "        ax = fig.add_subplot(111, aspect = \"equal\")\n",
    "    \n",
    "        ax.axis([-10,10,-10,10])\n",
    "    \n",
    "        sitemap = patches.Rectangle(domain[0], 20,20, linewidth = 1,facecolor = \"none\")\n",
    "        ax.add_patch(sitemap)\n",
    "\n",
    "        for val in obstacles:\n",
    "            obstacle = patches.Rectangle(val[0], abs(val[0][0] - val[1][0]), abs(val[1][1] - val[0][1]), facecolor =\"darkgrey\")\n",
    "            ax.add_patch(obstacle)\n",
    "\n",
    "        start_circle = patches.Circle(start_pos, 0.6,facecolor =\"b\")\n",
    "        target_circle = patches.Circle(target_pos, 0.5,facecolor = \"g\")\n",
    "        \n",
    "        for node in self.nodes:\n",
    "            if node.parent != None:\n",
    "                parent = node.parent\n",
    "                ax.plot([node.pos[0], parent.pos[0]],[node.pos[1], parent.pos[1]],color =\"deepskyblue\")\n",
    "                \n",
    "        if self.final_state != None:\n",
    "            isStart = False\n",
    "            node_1 = self.final_state\n",
    "            node_2 = node_1.parent\n",
    "\n",
    "            end_patch = patches.Circle(node_1.pos, 0.6,facecolor = \"aqua\")\n",
    "            ax.add_patch(end_patch)\n",
    "\n",
    "            while isStart == False:\n",
    "\n",
    "                ax.plot([node_1.pos[0], node_2.pos[0]],[node_1.pos[1], node_2.pos[1]],color =\"r\")\n",
    "                node_1 = node_2\n",
    "                node_2 = node_1.parent\n",
    "                if node_2 != None:\n",
    "                    isStart = False\n",
    "                else:\n",
    "                    isStart = True\n",
    "                    \n",
    "        ax.add_patch(start_circle)\n",
    "        ax.add_patch(target_circle)\n",
    "                \n",
    "        plt.show()\n",
    "                         \n",
    "    def sample(self):\n",
    "        \n",
    "        new_pt = np.random.rand(2)\n",
    "        new_pt = new_pt * 20 - 10      \n",
    "        new_pt = Node(new_pt) \n",
    "        \n",
    "        return new_pt\n",
    "    \n",
    "    def find_nearest(self, nodes, node):\n",
    "                \n",
    "        for i in range(len(nodes)):\n",
    "            \n",
    "            d = distance(nodes[i].pos, node.pos)\n",
    "            self.distance[i] = d\n",
    "            \n",
    "        nearest_ind =  np.argmin(self.distance)\n",
    "        nearest_node = nodes[nearest_ind]\n",
    "        \n",
    "        return nearest_node        \n",
    "        \n",
    "    def steer(self, node1, node2):\n",
    "        #node 1: to point  node 2: base point\n",
    "        \n",
    "        x1 = node1.pos\n",
    "        x2=  node2.pos\n",
    "        vec = x1 - x2 \n",
    "        \n",
    "        if distance(x1,x2)< self.expand_r:\n",
    "            \n",
    "            vec = x1 - x2 \n",
    "        else:\n",
    "            vec = (x1 - x2) / distance(x1,x2) * self.expand_r\n",
    "        \n",
    "        return vec\n",
    "        \n",
    "    def nearest(self,node,radius):\n",
    "        \n",
    "        near_nodes = []\n",
    "        \n",
    "        for i in range(len(self.distance)):\n",
    "            d = self.distance[i]\n",
    "            node = self.nodes[i]\n",
    "            if d/20 < radius:\n",
    "                near_nodes.append(node)\n",
    "            \n",
    "        return near_nodes  \n",
    "        \n",
    "    def isCollisionFree(self, node1, node2, obstacles,margin):\n",
    "        \n",
    "        #detect collision \n",
    "       \n",
    "        indicator = []\n",
    "        pt1 = node1.pos\n",
    "        pt2 = node2.pos\n",
    "        pt1 = np.append(pt1,1)  \n",
    "        pt2 = np.append(pt2,1)   \n",
    "        ln = np.cross(pt1,pt2)\n",
    "\n",
    "        for obstacle in obstacles:\n",
    "            lower_bound = obstacle[0] - np.array([margin, margin])\n",
    "            upper_bound = obstacle[1] + np.array([margin, margin])\n",
    "            x_delta = abs(lower_bound[0] - upper_bound[0])\n",
    "            y_delta = abs(lower_bound[1] - upper_bound[1])\n",
    "            pt_ll = lower_bound\n",
    "            pt_ur = upper_bound\n",
    "            pt_lr = lower_bound + np.array([x_delta,0])\n",
    "            pt_ul = lower_bound + np.array([0,y_delta])\n",
    "\n",
    "            l_pts = [[pt_ll, pt_lr],[pt_ll,pt_ul],[pt_ur,pt_ul],[pt_ur,pt_lr]]\n",
    "\n",
    "            for l_pt in l_pts:\n",
    "\n",
    "                l_pt1 = np.append(l_pt[0],1)\n",
    "                l_pt2 = np.append(l_pt[1],1)\n",
    "                line = np.cross(l_pt1,l_pt2)\n",
    "                pt_intersect = np.cross(ln, line)\n",
    "\n",
    "                if pt_intersect[2] == 0:\n",
    "                    indicator.append(False)\n",
    "\n",
    "                else:\n",
    "                    pt_intersect = pt_intersect/pt_intersect[2]\n",
    "                    vec1_pt = pt_intersect - pt1\n",
    "                    vec2_pt= pt_intersect - pt2\n",
    "                    vec1_l = pt_intersect - l_pt1\n",
    "                    vec2_l= pt_intersect - l_pt2\n",
    "                    \n",
    "                    sc1 = np.dot(vec1_pt, vec2_pt)\n",
    "                    sc2 = np.dot(vec1_l, vec2_l)\n",
    "                    if sc1 < 0 and sc2 < 0:\n",
    "                        indicator.append(True)\n",
    "                    else:\n",
    "                        indicator.append(False)\n",
    "                        \n",
    "        if np.sum(indicator) == 0:\n",
    "            \n",
    "            return True\n",
    "            "
   ]
  },
  {
   "cell_type": "code",
   "execution_count": 17,
   "metadata": {},
   "outputs": [],
   "source": [
    "rrt_planner = RRTstar(start, target, obstacles, map_region,1,10000)"
   ]
  },
  {
   "cell_type": "code",
   "execution_count": 18,
   "metadata": {
    "scrolled": true
   },
   "outputs": [],
   "source": [
    "nodes = rrt_planner.rrt_star_search()"
   ]
  },
  {
   "cell_type": "code",
   "execution_count": 19,
   "metadata": {},
   "outputs": [
    {
     "data": {
      "image/png": "[encoded data removed]",
      "text/plain": [
       "<matplotlib.figure.Figure at 0x2afe8f67f28>"
      ]
     },
     "metadata": {},
     "output_type": "display_data"
    }
   ],
   "source": [
    "rrt_planner.plotmap()"
   ]
  },
  {
   "cell_type": "markdown",
   "metadata": {},
   "source": [
    "## 3. Cost Plot"
   ]
  },
  {
   "cell_type": "code",
   "execution_count": 21,
   "metadata": {},
   "outputs": [
    {
     "data": {
      "text/plain": [
       "Text(0.5,1,'Best Cost every 100 iterations')"
      ]
     },
     "execution_count": 21,
     "metadata": {},
     "output_type": "execute_result"
    },
    {
     "data": {
      "image/png": "[encoded data removed]",
      "text/plain": [
       "<matplotlib.figure.Figure at 0x2aff1fd3588>"
      ]
     },
     "metadata": {},
     "output_type": "display_data"
    }
   ],
   "source": [
    "plt.plot(rrt_planner.best_cost_list)\n",
    "plt.title(\"Best Cost every 100 iterations\")"
   ]
  }
 ],
 "metadata": {
  "kernelspec": {
   "display_name": "Python 3",
   "language": "python",
   "name": "python3"
  },
  "language_info": {
   "codemirror_mode": {
    "name": "ipython",
    "version": 3
   },
   "file_extension": ".py",
   "mimetype": "text/x-python",
   "name": "python",
   "nbconvert_exporter": "python",
   "pygments_lexer": "ipython3",
   "version": "3.6.4"
  }
 },
 "nbformat": 4,
 "nbformat_minor": 2
}
